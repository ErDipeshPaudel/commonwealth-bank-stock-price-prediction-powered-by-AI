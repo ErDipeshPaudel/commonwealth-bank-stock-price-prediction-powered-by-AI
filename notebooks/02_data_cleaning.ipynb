{
 "cells": [
  {
   "cell_type": "markdown",
   "id": "12ebe064",
   "metadata": {},
   "source": [
    "## Load raw data\n",
    "We’ll use the CSVs we saved earlier:"
   ]
  },
  {
   "cell_type": "code",
   "execution_count": 1,
   "id": "4fa0793f",
   "metadata": {},
   "outputs": [
    {
     "name": "stdout",
     "output_type": "stream",
     "text": [
      "CBA.AX: (3964, 5) rows, ['Open', 'High', 'Low', 'Close', 'Volume'] columns\n"
     ]
    },
    {
     "data": {
      "text/html": [
       "<div>\n",
       "<style scoped>\n",
       "    .dataframe tbody tr th:only-of-type {\n",
       "        vertical-align: middle;\n",
       "    }\n",
       "\n",
       "    .dataframe tbody tr th {\n",
       "        vertical-align: top;\n",
       "    }\n",
       "\n",
       "    .dataframe thead th {\n",
       "        text-align: right;\n",
       "    }\n",
       "</style>\n",
       "<table border=\"1\" class=\"dataframe\">\n",
       "  <thead>\n",
       "    <tr style=\"text-align: right;\">\n",
       "      <th></th>\n",
       "      <th>Open</th>\n",
       "      <th>High</th>\n",
       "      <th>Low</th>\n",
       "      <th>Close</th>\n",
       "      <th>Volume</th>\n",
       "    </tr>\n",
       "    <tr>\n",
       "      <th>Date</th>\n",
       "      <th></th>\n",
       "      <th></th>\n",
       "      <th></th>\n",
       "      <th></th>\n",
       "      <th></th>\n",
       "    </tr>\n",
       "  </thead>\n",
       "  <tbody>\n",
       "    <tr>\n",
       "      <th>2010-01-04</th>\n",
       "      <td>24.820229</td>\n",
       "      <td>25.002163</td>\n",
       "      <td>24.765649</td>\n",
       "      <td>24.956678</td>\n",
       "      <td>992762</td>\n",
       "    </tr>\n",
       "    <tr>\n",
       "      <th>2010-01-05</th>\n",
       "      <td>25.038546</td>\n",
       "      <td>25.379671</td>\n",
       "      <td>25.038546</td>\n",
       "      <td>25.334187</td>\n",
       "      <td>3163161</td>\n",
       "    </tr>\n",
       "    <tr>\n",
       "      <th>2010-01-06</th>\n",
       "      <td>25.475191</td>\n",
       "      <td>25.561609</td>\n",
       "      <td>25.375128</td>\n",
       "      <td>25.461546</td>\n",
       "      <td>3210425</td>\n",
       "    </tr>\n",
       "  </tbody>\n",
       "</table>\n",
       "</div>"
      ],
      "text/plain": [
       "                 Open       High        Low      Close   Volume\n",
       "Date                                                           \n",
       "2010-01-04  24.820229  25.002163  24.765649  24.956678   992762\n",
       "2010-01-05  25.038546  25.379671  25.038546  25.334187  3163161\n",
       "2010-01-06  25.475191  25.561609  25.375128  25.461546  3210425"
      ]
     },
     "metadata": {},
     "output_type": "display_data"
    },
    {
     "name": "stdout",
     "output_type": "stream",
     "text": [
      "WBC.AX: (3964, 5) rows, ['Open', 'High', 'Low', 'Close', 'Volume'] columns\n"
     ]
    },
    {
     "data": {
      "text/html": [
       "<div>\n",
       "<style scoped>\n",
       "    .dataframe tbody tr th:only-of-type {\n",
       "        vertical-align: middle;\n",
       "    }\n",
       "\n",
       "    .dataframe tbody tr th {\n",
       "        vertical-align: top;\n",
       "    }\n",
       "\n",
       "    .dataframe thead th {\n",
       "        text-align: right;\n",
       "    }\n",
       "</style>\n",
       "<table border=\"1\" class=\"dataframe\">\n",
       "  <thead>\n",
       "    <tr style=\"text-align: right;\">\n",
       "      <th></th>\n",
       "      <th>Open</th>\n",
       "      <th>High</th>\n",
       "      <th>Low</th>\n",
       "      <th>Close</th>\n",
       "      <th>Volume</th>\n",
       "    </tr>\n",
       "    <tr>\n",
       "      <th>Date</th>\n",
       "      <th></th>\n",
       "      <th></th>\n",
       "      <th></th>\n",
       "      <th></th>\n",
       "      <th></th>\n",
       "    </tr>\n",
       "  </thead>\n",
       "  <tbody>\n",
       "    <tr>\n",
       "      <th>2010-01-04</th>\n",
       "      <td>10.781366</td>\n",
       "      <td>10.794126</td>\n",
       "      <td>10.738836</td>\n",
       "      <td>10.760101</td>\n",
       "      <td>2765223</td>\n",
       "    </tr>\n",
       "    <tr>\n",
       "      <th>2010-01-05</th>\n",
       "      <td>10.887691</td>\n",
       "      <td>10.887691</td>\n",
       "      <td>10.798378</td>\n",
       "      <td>10.849414</td>\n",
       "      <td>4773662</td>\n",
       "    </tr>\n",
       "    <tr>\n",
       "      <th>2010-01-06</th>\n",
       "      <td>10.798378</td>\n",
       "      <td>10.840908</td>\n",
       "      <td>10.747342</td>\n",
       "      <td>10.798378</td>\n",
       "      <td>3109106</td>\n",
       "    </tr>\n",
       "  </tbody>\n",
       "</table>\n",
       "</div>"
      ],
      "text/plain": [
       "                 Open       High        Low      Close   Volume\n",
       "Date                                                           \n",
       "2010-01-04  10.781366  10.794126  10.738836  10.760101  2765223\n",
       "2010-01-05  10.887691  10.887691  10.798378  10.849414  4773662\n",
       "2010-01-06  10.798378  10.840908  10.747342  10.798378  3109106"
      ]
     },
     "metadata": {},
     "output_type": "display_data"
    }
   ],
   "source": [
    "import pandas as pd\n",
    "import matplotlib.pyplot as plt\n",
    "import seaborn as sns\n",
    "from pathlib import Path\n",
    "\n",
    "DATA_DIR = Path(\"../data\")\n",
    "\n",
    "tickers = [\"CBA.AX\", \"WBC.AX\"]\n",
    "dfs = {}\n",
    "\n",
    "for t in tickers:\n",
    "    df = pd.read_csv(DATA_DIR / f\"{t}_raw.csv\", parse_dates=[\"Date\"], index_col=\"Date\")\n",
    "    dfs[t] = df\n",
    "    print(f\"{t}: {df.shape} rows, {df.columns.tolist()} columns\")\n",
    "    display(df.head(3))\n"
   ]
  },
  {
   "cell_type": "markdown",
   "id": "953d8723",
   "metadata": {},
   "source": [
    "2) Basic info & missing values"
   ]
  },
  {
   "cell_type": "code",
   "execution_count": 2,
   "id": "de022f5f",
   "metadata": {},
   "outputs": [
    {
     "name": "stdout",
     "output_type": "stream",
     "text": [
      "\n",
      "--- CBA.AX ---\n",
      "<class 'pandas.core.frame.DataFrame'>\n",
      "DatetimeIndex: 3964 entries, 2010-01-04 to 2025-09-05\n",
      "Data columns (total 5 columns):\n",
      " #   Column  Non-Null Count  Dtype  \n",
      "---  ------  --------------  -----  \n",
      " 0   Open    3964 non-null   float64\n",
      " 1   High    3964 non-null   float64\n",
      " 2   Low     3964 non-null   float64\n",
      " 3   Close   3964 non-null   float64\n",
      " 4   Volume  3964 non-null   int64  \n",
      "dtypes: float64(4), int64(1)\n",
      "memory usage: 185.8 KB\n",
      "None\n",
      "Missing values per column:\n",
      " Open      0\n",
      "High      0\n",
      "Low       0\n",
      "Close     0\n",
      "Volume    0\n",
      "dtype: int64\n",
      "Duplicate rows: 2\n",
      "\n",
      "--- WBC.AX ---\n",
      "<class 'pandas.core.frame.DataFrame'>\n",
      "DatetimeIndex: 3964 entries, 2010-01-04 to 2025-09-05\n",
      "Data columns (total 5 columns):\n",
      " #   Column  Non-Null Count  Dtype  \n",
      "---  ------  --------------  -----  \n",
      " 0   Open    3964 non-null   float64\n",
      " 1   High    3964 non-null   float64\n",
      " 2   Low     3964 non-null   float64\n",
      " 3   Close   3964 non-null   float64\n",
      " 4   Volume  3964 non-null   int64  \n",
      "dtypes: float64(4), int64(1)\n",
      "memory usage: 185.8 KB\n",
      "None\n",
      "Missing values per column:\n",
      " Open      0\n",
      "High      0\n",
      "Low       0\n",
      "Close     0\n",
      "Volume    0\n",
      "dtype: int64\n",
      "Duplicate rows: 2\n"
     ]
    }
   ],
   "source": [
    "for t, df in dfs.items():\n",
    "    print(f\"\\n--- {t} ---\")\n",
    "    print(df.info())\n",
    "    print(\"Missing values per column:\\n\", df.isnull().sum())\n",
    "    print(\"Duplicate rows:\", df.duplicated().sum())\n"
   ]
  },
  {
   "cell_type": "markdown",
   "id": "e1421a45",
   "metadata": {},
   "source": [
    "3) Check time coverage (holidays, weekends)"
   ]
  },
  {
   "cell_type": "code",
   "execution_count": 3,
   "id": "99f88db2",
   "metadata": {},
   "outputs": [
    {
     "name": "stdout",
     "output_type": "stream",
     "text": [
      "CBA.AX data from 2010-01-04 → 2025-09-05\n",
      "Expected trading days: 4090\n",
      "Actual rows: 3964\n",
      "WBC.AX data from 2010-01-04 → 2025-09-05\n",
      "Expected trading days: 4090\n",
      "Actual rows: 3964\n"
     ]
    }
   ],
   "source": [
    "for t, df in dfs.items():\n",
    "    print(f\"{t} data from {df.index.min().date()} → {df.index.max().date()}\")\n",
    "    print(\"Expected trading days:\", pd.date_range(df.index.min(), df.index.max(), freq=\"B\").shape[0])\n",
    "    print(\"Actual rows:\", df.shape[0])\n"
   ]
  },
  {
   "cell_type": "markdown",
   "id": "e49f876c",
   "metadata": {},
   "source": [
    "4) Daily returns"
   ]
  },
  {
   "cell_type": "code",
   "execution_count": 4,
   "id": "7bb43ab7",
   "metadata": {},
   "outputs": [
    {
     "data": {
      "text/html": [
       "<div>\n",
       "<style scoped>\n",
       "    .dataframe tbody tr th:only-of-type {\n",
       "        vertical-align: middle;\n",
       "    }\n",
       "\n",
       "    .dataframe tbody tr th {\n",
       "        vertical-align: top;\n",
       "    }\n",
       "\n",
       "    .dataframe thead th {\n",
       "        text-align: right;\n",
       "    }\n",
       "</style>\n",
       "<table border=\"1\" class=\"dataframe\">\n",
       "  <thead>\n",
       "    <tr style=\"text-align: right;\">\n",
       "      <th></th>\n",
       "      <th>CBA.AX</th>\n",
       "      <th>WBC.AX</th>\n",
       "    </tr>\n",
       "  </thead>\n",
       "  <tbody>\n",
       "    <tr>\n",
       "      <th>count</th>\n",
       "      <td>3963.000000</td>\n",
       "      <td>3963.000000</td>\n",
       "    </tr>\n",
       "    <tr>\n",
       "      <th>mean</th>\n",
       "      <td>0.000562</td>\n",
       "      <td>0.000419</td>\n",
       "    </tr>\n",
       "    <tr>\n",
       "      <th>std</th>\n",
       "      <td>0.012705</td>\n",
       "      <td>0.014096</td>\n",
       "    </tr>\n",
       "    <tr>\n",
       "      <th>min</th>\n",
       "      <td>-0.100060</td>\n",
       "      <td>-0.118101</td>\n",
       "    </tr>\n",
       "    <tr>\n",
       "      <th>25%</th>\n",
       "      <td>-0.005852</td>\n",
       "      <td>-0.006720</td>\n",
       "    </tr>\n",
       "    <tr>\n",
       "      <th>50%</th>\n",
       "      <td>0.000790</td>\n",
       "      <td>0.000749</td>\n",
       "    </tr>\n",
       "    <tr>\n",
       "      <th>75%</th>\n",
       "      <td>0.007615</td>\n",
       "      <td>0.007706</td>\n",
       "    </tr>\n",
       "    <tr>\n",
       "      <th>max</th>\n",
       "      <td>0.132619</td>\n",
       "      <td>0.092350</td>\n",
       "    </tr>\n",
       "  </tbody>\n",
       "</table>\n",
       "</div>"
      ],
      "text/plain": [
       "            CBA.AX       WBC.AX\n",
       "count  3963.000000  3963.000000\n",
       "mean      0.000562     0.000419\n",
       "std       0.012705     0.014096\n",
       "min      -0.100060    -0.118101\n",
       "25%      -0.005852    -0.006720\n",
       "50%       0.000790     0.000749\n",
       "75%       0.007615     0.007706\n",
       "max       0.132619     0.092350"
      ]
     },
     "execution_count": 4,
     "metadata": {},
     "output_type": "execute_result"
    }
   ],
   "source": [
    "returns = {}\n",
    "for t, df in dfs.items():\n",
    "    df[\"Return\"] = df[\"Close\"].pct_change()\n",
    "    returns[t] = df[\"Return\"]\n",
    "\n",
    "returns_df = pd.concat(returns, axis=1).dropna()\n",
    "\n",
    "returns_df.describe()\n"
   ]
  },
  {
   "cell_type": "code",
   "execution_count": 5,
   "id": "a5a78ed9",
   "metadata": {},
   "outputs": [
    {
     "data": {
      "image/png": "[encoded data removed]",
      "text/plain": [
       "<Figure size 1000x600 with 1 Axes>"
      ]
     },
     "metadata": {},
     "output_type": "display_data"
    }
   ],
   "source": [
    "plt.figure(figsize=(10,6))\n",
    "sns.boxplot(data=returns_df, orient=\"h\")\n",
    "plt.title(\"Boxplot of Daily Returns — Outlier Detection\")\n",
    "plt.xlabel(\"Daily Return\")\n",
    "plt.grid(alpha=0.3)\n",
    "plt.show()\n"
   ]
  },
  {
   "cell_type": "code",
   "execution_count": null,
   "id": "3b4cbdfb",
   "metadata": {},
   "outputs": [],
   "source": []
  }
 ],
 "metadata": {
  "kernelspec": {
   "display_name": "venv",
   "language": "python",
   "name": "python3"
  },
  "language_info": {
   "codemirror_mode": {
    "name": "ipython",
    "version": 3
   },
   "file_extension": ".py",
   "mimetype": "text/x-python",
   "name": "python",
   "nbconvert_exporter": "python",
   "pygments_lexer": "ipython3",
   "version": "3.9.6"
  }
 },
 "nbformat": 4,
 "nbformat_minor": 5
}
